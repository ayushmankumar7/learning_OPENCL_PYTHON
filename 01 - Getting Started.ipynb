{
 "cells": [
  {
   "cell_type": "markdown",
   "id": "e4626ff4",
   "metadata": {},
   "source": [
    "# Let's Start"
   ]
  },
  {
   "cell_type": "code",
   "execution_count": 3,
   "id": "2089db92",
   "metadata": {},
   "outputs": [],
   "source": [
    "import pyopencl as cl\n",
    "import numpy as np "
   ]
  },
  {
   "cell_type": "code",
   "execution_count": 4,
   "id": "dc65a8ff",
   "metadata": {},
   "outputs": [
    {
     "name": "stdout",
     "output_type": "stream",
     "text": [
      "['NVIDIA CUDA', 'AMD Accelerated Parallel Processing', 'OpenCLOn12']\n"
     ]
    }
   ],
   "source": [
    "opencl_platforms = [p.name for p in cl.get_platforms()]\n",
    "print(opencl_platforms)"
   ]
  },
  {
   "cell_type": "code",
   "execution_count": 7,
   "id": "a7212290",
   "metadata": {},
   "outputs": [
    {
     "data": {
      "text/plain": [
       "[<pyopencl.Device 'NVIDIA GeForce GTX 1650' on 'NVIDIA CUDA' at 0x2878c1421f0>]"
      ]
     },
     "execution_count": 7,
     "metadata": {},
     "output_type": "execute_result"
    }
   ],
   "source": [
    "nvidia_platform = [p for p in cl.get_platforms() if p.name == \"NVIDIA CUDA\"][0]\n",
    "nvidia_devices = nvidia_platform.get_devices()\n",
    "nvidia_devices"
   ]
  },
  {
   "cell_type": "markdown",
   "id": "95da3ba3",
   "metadata": {},
   "source": [
    "### Building Programs \n",
    "\n",
    "Using the PyOpenCL to create a OpenCL context, then declaring OPENCL kernel code and compiling it \n",
    "\n",
    "#### The code is for a simple vector sum c = a + b"
   ]
  },
  {
   "cell_type": "code",
   "execution_count": 8,
   "id": "4e10c62d",
   "metadata": {},
   "outputs": [],
   "source": [
    "nvidia_context = cl.Context(devices = nvidia_devices)\n",
    "\n",
    "program_source = \"\"\"\n",
    "    kernel void sum(global float *a, global float *b, global float *c){\n",
    "        int gid = get_global_id(0);\n",
    "        c[gid] = a[gid] + b[gid];\n",
    "    }\n",
    "\"\"\"\n",
    "\n",
    "nvidia_program_source = cl.Program(nvidia_context, program_source)\n",
    "nvidia_program = nvidia_program_source.build()"
   ]
  },
  {
   "cell_type": "code",
   "execution_count": 11,
   "id": "2da1ca14",
   "metadata": {},
   "outputs": [
    {
     "name": "stdout",
     "output_type": "stream",
     "text": [
      "Kernel Names: sum\n"
     ]
    }
   ],
   "source": [
    "program_kernel_names = nvidia_program.get_info(cl.program_info.KERNEL_NAMES)\n",
    "print(\"Kernel Names:\", program_kernel_names)"
   ]
  },
  {
   "cell_type": "code",
   "execution_count": 12,
   "id": "fdc1ad0d",
   "metadata": {},
   "outputs": [],
   "source": [
    "def run_ocl_kernel(queue, kernel, global_size, input_tuples, output_tuples, local_size = (32,)):\n",
    "    \n",
    "    # Copying data onto the device \n",
    "    for (array, buffer) in input_tuples:\n",
    "        cl.enqueue_copy(queue, src = array, dest = buffer)\n",
    "    \n",
    "    # Running program on the device \n",
    "    kernel_arguments = [buffer for (_, buffer) in input_tuples]\n",
    "    kernel_arguments += [buffer for (_, buffer) in output_tuples]\n",
    "    \n",
    "    kernel(queue, global_size, local_size, *kernel_arguments)\n",
    "    \n",
    "    # Copying data off the device\n",
    "    for (arr, buffer) in output_tuples:\n",
    "        cl.enqueue_copy(queue, src = buffer, dest = arr)\n",
    "        \n",
    "    # waiting for everything to finish\n",
    "    queue.finish()"
   ]
  },
  {
   "cell_type": "code",
   "execution_count": 13,
   "id": "472e118b",
   "metadata": {},
   "outputs": [],
   "source": [
    "def check_sum_results(a,b,c):\n",
    "    c_ref = a + b\n",
    "    err = np.abs(c - c_ref)\n",
    "    if (err.sum() > 0.0).any() :\n",
    "        print(\"Result does not match\")\n",
    "    else:\n",
    "        print(\"Result Matches\")"
   ]
  },
  {
   "cell_type": "markdown",
   "id": "0833910f",
   "metadata": {},
   "source": [
    "### Preparing Synthetic Data"
   ]
  },
  {
   "cell_type": "code",
   "execution_count": 14,
   "id": "e29378be",
   "metadata": {},
   "outputs": [],
   "source": [
    "N = int(2**20)\n",
    "a = np.random.rand(N).astype(np.float32)\n",
    "b = np.random.rand(N).astype(np.float32)\n",
    "c = np.empty_like(a)"
   ]
  },
  {
   "cell_type": "markdown",
   "id": "76a3a8e2",
   "metadata": {},
   "source": [
    "### Device Memory Setup"
   ]
  },
  {
   "cell_type": "code",
   "execution_count": 15,
   "id": "e89b061f",
   "metadata": {},
   "outputs": [],
   "source": [
    "a_nvidia_buffer = cl.Buffer(nvidia_context, flags = cl.mem_flags.READ_ONLY, size = a.nbytes)\n",
    "b_nvidia_buffer = cl.Buffer(nvidia_context, flags = cl.mem_flags.READ_ONLY, size = b.nbytes)\n",
    "c_nvidia_buffer = cl.Buffer(nvidia_context, flags = cl.mem_flags.WRITE_ONLY, size = c.nbytes)"
   ]
  },
  {
   "cell_type": "code",
   "execution_count": 16,
   "id": "522ba2b3",
   "metadata": {},
   "outputs": [],
   "source": [
    "nvidia_queue = cl.CommandQueue(nvidia_context)"
   ]
  },
  {
   "cell_type": "code",
   "execution_count": 18,
   "id": "869b5c76",
   "metadata": {},
   "outputs": [],
   "source": [
    "input_tuples = ((a, a_nvidia_buffer), (b, b_nvidia_buffer))\n",
    "output_tuples = ((c, c_nvidia_buffer),)\n",
    "run_ocl_kernel(nvidia_queue, nvidia_program.sum, (N,), input_tuples, output_tuples)"
   ]
  },
  {
   "cell_type": "code",
   "execution_count": 19,
   "id": "0d2a610f",
   "metadata": {},
   "outputs": [
    {
     "name": "stdout",
     "output_type": "stream",
     "text": [
      "Result Matches\n"
     ]
    }
   ],
   "source": [
    "check_sum_results(a, b ,c)"
   ]
  },
  {
   "cell_type": "code",
   "execution_count": 23,
   "id": "230d877c",
   "metadata": {},
   "outputs": [
    {
     "name": "stdout",
     "output_type": "stream",
     "text": [
      "4.66 ms ± 26.6 µs per loop (mean ± std. dev. of 7 runs, 100 loops each)\n"
     ]
    }
   ],
   "source": [
    "%timeit run_ocl_kernel(nvidia_queue, nvidia_program.sum, (N,), input_tuples, output_tuples)"
   ]
  },
  {
   "cell_type": "code",
   "execution_count": 25,
   "id": "9896f3a1",
   "metadata": {},
   "outputs": [
    {
     "name": "stdout",
     "output_type": "stream",
     "text": [
      "4.48 ms ± 209 µs per loop (mean ± std. dev. of 7 runs, 100 loops each)\n"
     ]
    }
   ],
   "source": [
    "# LAPTOP CHARGE ON XD\n",
    "\n",
    "%timeit run_ocl_kernel(nvidia_queue, nvidia_program.sum, (N,), input_tuples, output_tuples)"
   ]
  },
  {
   "cell_type": "markdown",
   "id": "e40a437f",
   "metadata": {},
   "source": [
    "### Using GLOBAL MEMORY"
   ]
  },
  {
   "cell_type": "code",
   "execution_count": 35,
   "id": "009aa3d6",
   "metadata": {},
   "outputs": [],
   "source": [
    "def create_input_memory(context, input_array):\n",
    "    return [(array, cl.Buffer(context, flags = cl.mem_flags.READ_ONLY, size = array.nbytes)) for array in input_array]"
   ]
  },
  {
   "cell_type": "code",
   "execution_count": 36,
   "id": "4adc72b6",
   "metadata": {},
   "outputs": [],
   "source": [
    "def create_output_memory(context, output_array):\n",
    "    return [(array, cl.Buffer(context, flags = cl.mem_flags.WRITE_ONLY, size = array.nbytes)) for array in output_array]"
   ]
  },
  {
   "cell_type": "code",
   "execution_count": 37,
   "id": "1dd6c69a",
   "metadata": {},
   "outputs": [],
   "source": [
    "N = int(2**20)\n",
    "a = np.random.rand(N).astype(np.float32)\n",
    "b = np.random.rand(N).astype(np.float32)\n",
    "c = np.empty_like(a)"
   ]
  },
  {
   "cell_type": "code",
   "execution_count": 38,
   "id": "7218d552",
   "metadata": {},
   "outputs": [
    {
     "name": "stdout",
     "output_type": "stream",
     "text": [
      "Result Matches\n"
     ]
    }
   ],
   "source": [
    "input_tuples = create_input_memory(nvidia_context, (a, b, ))\n",
    "output_tuples = create_output_memory(nvidia_context, (c,))\n",
    "run_ocl_kernel(nvidia_queue, nvidia_program.sum, (N,), input_tuples, output_tuples)\n",
    "check_sum_results(a,b,c)"
   ]
  },
  {
   "cell_type": "code",
   "execution_count": null,
   "id": "934d07c9",
   "metadata": {},
   "outputs": [],
   "source": []
  },
  {
   "cell_type": "code",
   "execution_count": null,
   "id": "5766a3d0",
   "metadata": {},
   "outputs": [],
   "source": []
  }
 ],
 "metadata": {
  "kernelspec": {
   "display_name": "Python 3 (ipykernel)",
   "language": "python",
   "name": "python3"
  },
  "language_info": {
   "codemirror_mode": {
    "name": "ipython",
    "version": 3
   },
   "file_extension": ".py",
   "mimetype": "text/x-python",
   "name": "python",
   "nbconvert_exporter": "python",
   "pygments_lexer": "ipython3",
   "version": "3.8.0"
  }
 },
 "nbformat": 4,
 "nbformat_minor": 5
}
